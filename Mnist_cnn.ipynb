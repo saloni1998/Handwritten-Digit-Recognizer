{
 "cells": [
  {
   "cell_type": "code",
   "execution_count": 1,
   "metadata": {
    "_cell_guid": "39d9185c-ad0c-4261-9453-1467d9c481a5",
    "_kg_hide-output": false,
    "_uuid": "4ac3651a866babff4432fe0616d39327364ec891"
   },
   "outputs": [
    {
     "name": "stderr",
     "output_type": "stream",
     "text": [
      "/opt/conda/lib/python3.6/importlib/_bootstrap.py:219: RuntimeWarning: compiletime version 3.5 of module 'tensorflow.python.framework.fast_tensor_util' does not match runtime version 3.6\n",
      "  return f(*args, **kwds)\n"
     ]
    }
   ],
   "source": [
    "# This Python 3 environment comes with many helpful analytics libraries installed\n",
    "# It is defined by the kaggle/python docker image: https://github.com/kaggle/docker-python\n",
    "# For example, here's several helpful packages to load in \n",
    "\n",
    "import numpy as np # linear algebra\n",
    "import pandas as pd # data processing, CSV file I/O (e.g. pd.read_csv)\n",
    "\n",
    "# Input data files are available in the \"../input/\" directory.\n",
    "# For example, running this (by clicking run or pressing Shift+Enter) will list the files in the input directory\n",
    "from sklearn.metrics import accuracy_score\n",
    "from sklearn.model_selection import train_test_split\n",
    "import tensorflow as tf\n",
    "# Any results you write to the current directory are saved as output."
   ]
  },
  {
   "cell_type": "code",
   "execution_count": 2,
   "metadata": {
    "_cell_guid": "ac71338c-731c-444b-bd85-28aa387f5dd6",
    "_uuid": "4db5bbaaa9e9ea3d1c87348512e74b81c29cd96e",
    "collapsed": true,
    "scrolled": true
   },
   "outputs": [],
   "source": [
    "X=tf.placeholder(tf.float32,shape=[None,784])\n",
    "y=tf.placeholder(tf.float32,shape=[None,10])\n"
   ]
  },
  {
   "cell_type": "code",
   "execution_count": 3,
   "metadata": {
    "_cell_guid": "20e28b4e-0bb9-4c94-b745-fa552f034320",
    "_uuid": "b88774e8355d1306894f4aa6aab44c675b2ec4c9",
    "collapsed": true,
    "scrolled": false
   },
   "outputs": [],
   "source": [
    "def weight_variable(shape):\n",
    "    initial=tf.truncated_normal(shape,stddev=0.1)\n",
    "    return tf.Variable(initial)\n",
    "def bias(shape):\n",
    "    initial=tf.constant(0.1,shape=shape)\n",
    "    return tf.Variable(initial)\n",
    "    "
   ]
  },
  {
   "cell_type": "code",
   "execution_count": 4,
   "metadata": {
    "_cell_guid": "5719bc26-7812-4a04-87e0-6869fafe9dda",
    "_uuid": "2b67b5751b6b753ba43bc649d11c8b2510df18e6",
    "collapsed": true
   },
   "outputs": [],
   "source": [
    "def conv2d(x, W):\n",
    "    return tf.nn.conv2d(x,W,strides=[1,1,1,1],padding='SAME')\n",
    "\n",
    "def max_pool(x):\n",
    "    return tf.nn.max_pool(x,ksize=[1,2,2,1],strides=[1,2,2,1],padding='SAME')\n",
    "\n",
    "  "
   ]
  },
  {
   "cell_type": "code",
   "execution_count": 5,
   "metadata": {
    "_cell_guid": "041ff4e2-ae1e-4c7b-aa9c-ea033fe64633",
    "_uuid": "6ea9650869ab9eff3e4dfb1b34a9480a1e812832",
    "collapsed": true
   },
   "outputs": [],
   "source": [
    "W_conv1=weight_variable([5,5,1,32])\n",
    "b_conv1=bias([32])\n",
    "X_image=tf.reshape(X,[-1,28,28,1])\n",
    "h_conv1=tf.nn.relu(conv2d(X_image,W_conv1)+b_conv1)\n",
    "h_pool1=max_pool(h_conv1)"
   ]
  },
  {
   "cell_type": "code",
   "execution_count": 6,
   "metadata": {
    "_cell_guid": "2829ba81-fb4a-4081-8aec-81d5991893f3",
    "_uuid": "4206ce0fb80ead4f3db95825e1778bf1ce33bfb5",
    "collapsed": true
   },
   "outputs": [],
   "source": [
    "W_conv2 = weight_variable([5, 5, 32, 64])\n",
    "b_conv2 = bias([64])\n",
    "\n",
    "h_conv2 = tf.nn.relu(conv2d(h_pool1, W_conv2) + b_conv2)\n",
    "h_pool2 = max_pool(h_conv2)"
   ]
  },
  {
   "cell_type": "code",
   "execution_count": 7,
   "metadata": {
    "_cell_guid": "3ed47a01-0293-49cb-8ef8-608e0b4bfbd3",
    "_uuid": "6b921d37ab4867140651391829e6c3283bd61994",
    "collapsed": true
   },
   "outputs": [],
   "source": [
    "W_fc1 = weight_variable([7 * 7 * 64, 1024])\n",
    "b_fc1 = bias([1024])\n",
    "\n",
    "h_pool2_flat = tf.reshape(h_pool2, [-1, 7*7*64])\n",
    "h_fc1 = tf.nn.relu(tf.matmul(h_pool2_flat, W_fc1) + b_fc1)"
   ]
  },
  {
   "cell_type": "code",
   "execution_count": 8,
   "metadata": {
    "_cell_guid": "e816cc8c-7247-48df-8394-4bf1ce892d86",
    "_uuid": "5694723a99b26a695b2d35f286d03665ee1787a0",
    "collapsed": true
   },
   "outputs": [],
   "source": [
    "w4=weight_variable([1024,10])\n",
    "b4=bias([10])\n",
    "y_conv= tf.matmul(h_fc1,w4)+b4"
   ]
  },
  {
   "cell_type": "code",
   "execution_count": 9,
   "metadata": {
    "_cell_guid": "1fdcd807-df04-4ed2-aed8-8103afbe20b3",
    "_uuid": "599c7c6f13ac15484d82d00243e98c6aaecf9630",
    "collapsed": true
   },
   "outputs": [],
   "source": [
    "cross_entropy = tf.reduce_mean(\n",
    "    tf.nn.softmax_cross_entropy_with_logits(labels=y, logits=y_conv))\n",
    "train_step = tf.train.AdamOptimizer(1e-4).minimize(cross_entropy)\n",
    "correct_prediction = tf.equal(tf.argmax(y_conv, 1), tf.argmax(y, 1))\n",
    "accuracy = tf.reduce_mean(tf.cast(correct_prediction, tf.float32))"
   ]
  },
  {
   "cell_type": "code",
   "execution_count": 10,
   "metadata": {
    "_cell_guid": "e13a13cd-b3cb-42d2-b962-65b13d32aa93",
    "_uuid": "34c38260b7eff6eee16b80d9d549a70a8986888d",
    "collapsed": true
   },
   "outputs": [],
   "source": [
    "import sklearn.preprocessing\n",
    "from sklearn.utils import shuffle\n",
    "from sklearn.preprocessing  import LabelEncoder,OneHotEncoder\n",
    "def randomshuffle(train):\n",
    "    #np.random.shuffle(train)\n",
    "    train=shuffle(train)\n",
    "    train_features=train.iloc[:,1:]\n",
    "    train_labels=train.iloc[:,0]\n",
    "    labels = LabelEncoder().fit_transform(train_labels)[:, None]\n",
    "    labels = OneHotEncoder().fit_transform(labels).todense()\n",
    "    \n",
    "    \n",
    "    '''a = np.array(train_labels)\n",
    "    label_binarizer = sklearn.preprocessing.LabelBinarizer()\n",
    "    label_binarizer.fit(range(max(a)+1))\n",
    "    b = label_binarizer.transform(a)\n",
    "    train_labels=b'''\n",
    "    return train_features,labels"
   ]
  },
  {
   "cell_type": "code",
   "execution_count": 11,
   "metadata": {
    "_cell_guid": "0d794267-ed64-483b-9b24-82a37d8db92a",
    "_uuid": "018512331959172f7b246810d1374bdbd75a97e7",
    "collapsed": true
   },
   "outputs": [],
   "source": [
    "dataframe= pd.read_csv('../input/train.csv')\n",
    "train,test=train_test_split(dataframe,test_size=0.05,random_state=1)"
   ]
  },
  {
   "cell_type": "code",
   "execution_count": 12,
   "metadata": {
    "_cell_guid": "22383853-95aa-423a-9c7e-3c26734acbe2",
    "_uuid": "e801afe97f073b432e88fb73236eced9c3de8719"
   },
   "outputs": [
    {
     "name": "stdout",
     "output_type": "stream",
     "text": [
      "(39900, 10) (39900, 784)\n"
     ]
    }
   ],
   "source": [
    "train_features,train_labels=randomshuffle(train)\n",
    "print(train_labels.shape,train_features.shape)"
   ]
  },
  {
   "cell_type": "code",
   "execution_count": 13,
   "metadata": {
    "_cell_guid": "6c3e94a0-435f-4609-ae6c-67d475a03ea6",
    "_uuid": "932917555f6176e1b144468d10a3e67c4894d0c7",
    "collapsed": true
   },
   "outputs": [],
   "source": [
    "init=tf.global_variables_initializer()\n",
    "sess=tf.Session()\n",
    "sess.run(init)"
   ]
  },
  {
   "cell_type": "code",
   "execution_count": 14,
   "metadata": {
    "_cell_guid": "90187e58-79ae-43e4-936a-e2c1566ce6f1",
    "_uuid": "71bfb2102fb2c5b129828627aeaf8e24e9c85b3d",
    "collapsed": true
   },
   "outputs": [],
   "source": [
    "train_features=train_features/255.0"
   ]
  },
  {
   "cell_type": "code",
   "execution_count": 15,
   "metadata": {
    "_cell_guid": "3a88b227-faf8-421e-95d9-3c74b1420852",
    "_uuid": "37ec377bddde0afdca9140fa6e2a378cbd075da8",
    "scrolled": false
   },
   "outputs": [
    {
     "name": "stdout",
     "output_type": "stream",
     "text": [
      "iteration begins\n",
      "on minibatch iteration  0\n",
      "on minibatch iteration  100\n",
      "on minibatch iteration  200\n",
      "on minibatch iteration  300\n",
      "iteration=  0\n",
      "on minibatch iteration  0\n",
      "on minibatch iteration  100\n",
      "on minibatch iteration  200\n",
      "on minibatch iteration  300\n",
      "on minibatch iteration  0\n",
      "on minibatch iteration  100\n",
      "on minibatch iteration  200\n",
      "on minibatch iteration  300\n",
      "iteration=  2\n",
      "on minibatch iteration  0\n",
      "on minibatch iteration  100\n",
      "on minibatch iteration  200\n",
      "on minibatch iteration  300\n",
      "on minibatch iteration  0\n",
      "on minibatch iteration  100\n",
      "on minibatch iteration  200\n",
      "on minibatch iteration  300\n",
      "iteration=  4\n",
      "on minibatch iteration  0\n",
      "on minibatch iteration  100\n",
      "on minibatch iteration  200\n",
      "on minibatch iteration  300\n",
      "on minibatch iteration  0\n",
      "on minibatch iteration  100\n",
      "on minibatch iteration  200\n",
      "on minibatch iteration  300\n",
      "iteration=  6\n",
      "on minibatch iteration  0\n",
      "on minibatch iteration  100\n",
      "on minibatch iteration  200\n",
      "on minibatch iteration  300\n",
      "on minibatch iteration  0\n",
      "on minibatch iteration  100\n",
      "on minibatch iteration  200\n",
      "on minibatch iteration  300\n",
      "iteration=  8\n",
      "on minibatch iteration  0\n",
      "on minibatch iteration  100\n",
      "on minibatch iteration  200\n",
      "on minibatch iteration  300\n",
      "on minibatch iteration  0\n",
      "on minibatch iteration  100\n",
      "on minibatch iteration  200\n",
      "on minibatch iteration  300\n",
      "iteration=  10\n",
      "on minibatch iteration  0\n",
      "on minibatch iteration  100\n",
      "on minibatch iteration  200\n",
      "on minibatch iteration  300\n",
      "on minibatch iteration  0\n",
      "on minibatch iteration  100\n",
      "on minibatch iteration  200\n",
      "on minibatch iteration  300\n",
      "iteration=  12\n",
      "on minibatch iteration  0\n",
      "on minibatch iteration  100\n",
      "on minibatch iteration  200\n",
      "on minibatch iteration  300\n",
      "on minibatch iteration  0\n",
      "on minibatch iteration  100\n",
      "on minibatch iteration  200\n",
      "on minibatch iteration  300\n",
      "iteration=  14\n",
      "on minibatch iteration  0\n",
      "on minibatch iteration  100\n",
      "on minibatch iteration  200\n",
      "on minibatch iteration  300\n",
      "on minibatch iteration  0\n",
      "on minibatch iteration  100\n",
      "on minibatch iteration  200\n",
      "on minibatch iteration  300\n",
      "iteration=  16\n",
      "on minibatch iteration  0\n",
      "on minibatch iteration  100\n",
      "on minibatch iteration  200\n",
      "on minibatch iteration  300\n",
      "on minibatch iteration  0\n",
      "on minibatch iteration  100\n",
      "on minibatch iteration  200\n",
      "on minibatch iteration  300\n",
      "iteration=  18\n",
      "on minibatch iteration  0\n",
      "on minibatch iteration  100\n",
      "on minibatch iteration  200\n",
      "on minibatch iteration  300\n"
     ]
    }
   ],
   "source": [
    "print(\"iteration begins\")\n",
    "costs=[]\n",
    "for i in range(20):\n",
    "    j=0\n",
    "    train_features,train_labels=randomshuffle(train)\n",
    "    batch_cost=0\n",
    "    for j in range(399):\n",
    "        x=train_features.iloc[(j%400)*100:((j+1)%400)*100,:]\n",
    "        y_=train_labels[(j%400)*100:((j+1)%400)*100,:]\n",
    "        _,cost_batch=sess.run([train_step,cross_entropy],feed_dict={X:x,y:y_})\n",
    "        batch_cost+=cost_batch/399.0\n",
    "        if(j==398):\n",
    "            costs.append(batch_cost)\n",
    "        if j%100==0:\n",
    "            print('on minibatch iteration ',j)\n",
    "            \n",
    "    if i%2==0:\n",
    "         print(\"iteration= \",i)\n",
    "        \n",
    "   \n",
    "        \n",
    "        \n",
    "        "
   ]
  },
  {
   "cell_type": "code",
   "execution_count": 16,
   "metadata": {
    "_cell_guid": "332733d2-6924-4228-8cd9-599d7b64fa74",
    "_uuid": "6015d60a42cf29732c81fdaceb59cdd0840d8faf"
   },
   "outputs": [
    {
     "data": {
      "image/png": "[encoded data removed]",
      "text/plain": [
       "<matplotlib.figure.Figure at 0x7fb39b614630>"
      ]
     },
     "metadata": {},
     "output_type": "display_data"
    }
   ],
   "source": [
    "import matplotlib.pyplot as plt\n",
    "plt.plot(costs)\n",
    "plt.show()"
   ]
  },
  {
   "cell_type": "code",
   "execution_count": 17,
   "metadata": {
    "_cell_guid": "f3be6c6c-c6fe-4158-8a06-eab1cc978f0f",
    "_uuid": "7d8c863e6d12a75d434120f5ccbd02f1e00bc5e5"
   },
   "outputs": [
    {
     "name": "stdout",
     "output_type": "stream",
     "text": [
      "accuracy=  0.98\n"
     ]
    }
   ],
   "source": [
    "test_features,test_labels=randomshuffle(test)\n",
    "print(\"accuracy= \",sess.run(accuracy,{X:test_features,y:test_labels}))"
   ]
  },
  {
   "cell_type": "code",
   "execution_count": 18,
   "metadata": {
    "_cell_guid": "6c429b2d-045d-4e70-b375-b58a4fdace51",
    "_uuid": "2e7554eb6caa5a62a66ef0f2392f76f73298d1f2",
    "collapsed": true
   },
   "outputs": [],
   "source": [
    "test_set=pd.read_csv(\"../input/test.csv\")"
   ]
  },
  {
   "cell_type": "code",
   "execution_count": 19,
   "metadata": {
    "_cell_guid": "3eaac46b-b6c1-47bb-9459-484a9df2ce7b",
    "_uuid": "76bd7828d472fd362ad6b046aff69aceb3070960"
   },
   "outputs": [
    {
     "name": "stdout",
     "output_type": "stream",
     "text": [
      "28000\n"
     ]
    }
   ],
   "source": [
    "test_result=[]\n",
    "for i in range(280):\n",
    "    df1=test_set.iloc[i*100:(i+1)*100,:]\n",
    "    ans=tf.argmax(y_conv, 1)\n",
    "    y1,pred=sess.run([y_conv,ans],{X:df1})\n",
    "    for j in range(len(pred)):\n",
    "        test_result.append(pred[j])\n",
    "print(len(test_result))"
   ]
  },
  {
   "cell_type": "code",
   "execution_count": 20,
   "metadata": {
    "_cell_guid": "3da43e70-8990-477f-9e4f-3fe8f0299192",
    "_kg_hide-output": true,
    "_uuid": "6fa683be40c283f8f6e5e422d8353d6aaea952ed",
    "collapsed": true
   },
   "outputs": [],
   "source": [
    "test_result=np.array(test_result)"
   ]
  },
  {
   "cell_type": "code",
   "execution_count": 21,
   "metadata": {
    "_cell_guid": "4af6acc5-f04a-4c93-b22a-2e3580c85b09",
    "_uuid": "39aa681f6317b290bb8d64fa8666b9b31ff601bd",
    "collapsed": true
   },
   "outputs": [],
   "source": [
    "labels=[]\n",
    "for x in range (1,28001):\n",
    "    labels.append(x)\n",
    "labels=np.array(labels)"
   ]
  },
  {
   "cell_type": "code",
   "execution_count": 22,
   "metadata": {
    "_cell_guid": "10058f9a-7a29-4305-a501-6b5a176680d6",
    "_kg_hide-output": true,
    "_uuid": "f52182063da921ebd660800a115a1c0819dc887b"
   },
   "outputs": [
    {
     "name": "stdout",
     "output_type": "stream",
     "text": [
      "28000 28000\n"
     ]
    }
   ],
   "source": [
    "df={\n",
    "    'ImageId':labels,\n",
    "    'Label':test_result\n",
    "}\n",
    "print(len(labels),len(test_result))\n",
    "pd_df=pd.DataFrame(data=df)\n",
    "pd_df.to_csv('tf_cnn.csv',index=False)"
   ]
  },
  {
   "cell_type": "code",
   "execution_count": 23,
   "metadata": {
    "_cell_guid": "c549c4b0-b2b0-446e-83da-b1022d4d7f75",
    "_uuid": "fccaa117e45421fc4ef1ee098ae8c96e248acdb4",
    "collapsed": true
   },
   "outputs": [],
   "source": []
  },
  {
   "cell_type": "code",
   "execution_count": 23,
   "metadata": {
    "_cell_guid": "4a34f4cb-e4ca-45cc-ad5e-580f4d2bb08d",
    "_uuid": "d7c52a7ecaa898aadddec64210d1f212b2bf620b",
    "collapsed": true
   },
   "outputs": [],
   "source": []
  }
 ],
 "metadata": {
  "kernelspec": {
   "display_name": "Python 3",
   "language": "python",
   "name": "python3"
  },
  "language_info": {
   "codemirror_mode": {
    "name": "ipython",
    "version": 3
   },
   "file_extension": ".py",
   "mimetype": "text/x-python",
   "name": "python",
   "nbconvert_exporter": "python",
   "pygments_lexer": "ipython3",
   "version": "3.6.2"
  }
 },
 "nbformat": 4,
 "nbformat_minor": 1
}
